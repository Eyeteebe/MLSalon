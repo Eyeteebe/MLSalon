{
  "nbformat": 4,
  "nbformat_minor": 0,
  "metadata": {
    "colab": {
      "provenance": [],
      "toc_visible": true,
      "authorship_tag": "ABX9TyN/F5yILQVRQ0w4/fQhd7sk",
      "include_colab_link": true
    },
    "kernelspec": {
      "name": "python3",
      "display_name": "Python 3"
    }
  },
  "cells": [
    {
      "cell_type": "markdown",
      "metadata": {
        "id": "view-in-github",
        "colab_type": "text"
      },
      "source": [
        "<a href=\"https://colab.research.google.com/github/Eyeteebe/MLSalon/blob/master/resources/word2vec_skip_gram.ipynb\" target=\"_parent\"><img src=\"https://colab.research.google.com/assets/colab-badge.svg\" alt=\"Open In Colab\"/></a>"
      ]
    },
    {
      "cell_type": "code",
      "metadata": {
        "id": "6p10JvK28Ue0"
      },
      "source": [
        "#preprocess and hyperparameters\n",
        "\n",
        "import matplotlib\n",
        "import matplotlib.pyplot as plt\n",
        "import numpy as np\n",
        "\n",
        "# raw data - setences\n",
        "sentences = [\"he likes cat\",\n",
        "             \"he likes dog\",\n",
        "             \"he likes animal\",\n",
        "             \"dog cat animal\",\n",
        "             \"she likes cat\",\n",
        "             \"she dislikes dog\",\n",
        "             \"cat likes fish\",\n",
        "             \"cat likes milk\",\n",
        "             \"dog likes bone\",\n",
        "             \"dog dislikes fish\",\n",
        "             \"dog likes milk\",\n",
        "             \"she likes movie\",\n",
        "             \"she likes music\",\n",
        "             \"he likes game\",\n",
        "             \"he likes movie\",\n",
        "             \"cat dislikes dog\"]\n",
        "\n",
        "# convert all sentences to unique word list\n",
        "word_sequence = \" \".join(sentences).split()\n",
        "word_list = \" \".join(sentences).split()\n",
        "word_list = list(set(word_list))\n",
        "\n",
        "# make dictionary so that we can be reference each index of unique word\n",
        "word_dict = {w: i for i, w in enumerate(word_list)}\n",
        "\n",
        "# Making window size 1 skip-gram\n",
        "# i.e.) he likes cat\n",
        "#   -> (he, [likes]), (likes,[he, cat]), (cat,[likes])\n",
        "#   -> (he, likes), (likes, he), (likes, cat), (cat, likes)\n",
        "skip_grams = []\n",
        "\n",
        "for i in range(1, len(word_sequence) - 1):\n",
        "    # (context, target) : ([target index - 1, target index + 1], target)\n",
        "    target = word_dict[word_sequence[i]]\n",
        "    context = [word_dict[word_sequence[i - 1]], word_dict[word_sequence[i + 1]]]\n",
        "\n",
        "    # skipgrams - (target, context[0]), (target, context[1])..\n",
        "    for w in context:\n",
        "        skip_grams.append([target, w])\n",
        "\n",
        "#print(skip_grams)\n",
        "\n",
        "# prepare random batch from skip-gram - we do not have enought data so we randomly select data\n",
        "def prepare_batch(data, size):\n",
        "    random_inputs = []\n",
        "    random_labels = []\n",
        "    random_index = np.random.choice(range(len(data)), size, replace=False)\n",
        "\n",
        "    for i in random_index:\n",
        "        input_temp = [0]*voc_size\n",
        "        input_temp[data[i][0]] = 1\n",
        "        random_inputs.append(input_temp)  # target\n",
        "        random_labels.append(data[i][1])  # context word\n",
        "\n",
        "    return np.array(random_inputs), np.array(random_labels)\n",
        "\n",
        "#hyperparameters\n",
        "voc_size = len(word_list)\n",
        "learning_rate = 0.1\n",
        "batch_size = 10\n",
        "embedding_size = 2\n",
        "n_hidden_1 = 5"
      ],
      "execution_count": null,
      "outputs": []
    },
    {
      "cell_type": "code",
      "metadata": {
        "id": "W2vQLIkP8YkI",
        "outputId": "6f00079f-d985-425b-d06e-98f81bf85acf",
        "colab": {
          "base_uri": "https://localhost:8080/"
        }
      },
      "source": [
        "import torch\n",
        "import torch.nn as nn\n",
        "import torch.optim as optim\n",
        "\n",
        "import time\n",
        "\n",
        "class SkipGram(nn.Module):\n",
        "    def __init__(self):\n",
        "        super(SkipGram, self).__init__()\n",
        "        #You need to use \"bias=False\" when you define Linear functions\n",
        "        #***************put your code here***************\n",
        "        self.linear1 = nn.Linear(voc_size, embedding_size, bias=False)\n",
        "        self.linear2 = nn.Linear(embedding_size, voc_size, bias=False)\n",
        "\n",
        "    def forward(self, x):\n",
        "        hidden = self.linear1(x)\n",
        "        out = self.linear2(hidden)\n",
        "        return out\n",
        "\n",
        "skip_gram_model = SkipGram()\n",
        "criterion = nn.CrossEntropyLoss() #please note we are using \"CrossEntropyLoss\" here\n",
        "optimiser = optim.SGD(skip_gram_model.parameters(), lr=learning_rate)\n",
        "weight1 = skip_gram_model.linear1.weight\n",
        "trained_embeddings = weight1.detach().T.numpy()\n",
        "\n",
        "\"\"\"%matplotlib inline\n",
        "plt.ion()\n",
        "plt.show()\"\"\"\n",
        "\n",
        "for epoch in range(5000):\n",
        "\n",
        "    inputs,labels = prepare_batch(skip_grams, batch_size)\n",
        "    inputs_torch = torch.from_numpy(inputs).float()\n",
        "    labels_torch = torch.from_numpy(labels)\n",
        "\n",
        "    #***************put your code here***************\n",
        "    skip_gram_model.train()\n",
        "\n",
        "    # 1. zero grad\n",
        "    optimiser.zero_grad()\n",
        "\n",
        "    # 2. forword propagation\n",
        "    outputs = skip_gram_model(inputs_torch)\n",
        "\n",
        "    # 3. calculate loss\n",
        "    loss = criterion(outputs, labels_torch)\n",
        "\n",
        "    # 4. back propagation\n",
        "    loss.backward()\n",
        "    optimiser.step()\n",
        "\n",
        "    if epoch % 500 == 499:\n",
        "        print('Epoch: %d, loss: %.4f' %(epoch + 1, loss))\n",
        "        \"\"\"### Visualise result\n",
        "        plt.cla()\n",
        "        weight1 = skip_gram_model.linear1.weight\n",
        "        trained_embeddings = weight1.detach().T.numpy()\n",
        "        for i, label in enumerate(word_list):\n",
        "            x, y = trained_embeddings[i]\n",
        "            # print (label, \" : \", x, \" \" , y)\n",
        "            plt.scatter(x, y)\n",
        "            plt.annotate(label, xy=(x, y), xytext=(5, 2),\n",
        "                         textcoords='offset points', ha='right', va='bottom')\n",
        "        plt.text(0, 0, 'Epoch: %d, loss: %.4f' %(epoch + 1, loss), fontdict={'size': 20, 'color':  'red'})\n",
        "        plt.pause(0.1)\"\"\"\n",
        "\n",
        "\n",
        "#Hint: you can refer lab1 to know how to get the weight from a Model Linear layer\n",
        "weight1 = skip_gram_model.linear1.weight\n",
        "trained_embeddings = weight1.detach().T.numpy()"
      ],
      "execution_count": null,
      "outputs": [
        {
          "output_type": "stream",
          "name": "stdout",
          "text": [
            "Epoch: 500, loss: 1.9859\n",
            "Epoch: 1000, loss: 1.6430\n",
            "Epoch: 1500, loss: 1.9752\n",
            "Epoch: 2000, loss: 2.0292\n",
            "Epoch: 2500, loss: 1.9929\n",
            "Epoch: 3000, loss: 2.5020\n",
            "Epoch: 3500, loss: 1.7400\n",
            "Epoch: 4000, loss: 2.3649\n",
            "Epoch: 4500, loss: 2.0040\n",
            "Epoch: 5000, loss: 1.9914\n"
          ]
        }
      ]
    },
    {
      "cell_type": "code",
      "metadata": {
        "id": "CkVDVuNL8cHQ",
        "outputId": "f6b3949c-913c-4d5d-8181-90fbbb81dc8f",
        "colab": {
          "base_uri": "https://localhost:8080/",
          "height": 430
        }
      },
      "source": [
        "### Visualise result\n",
        "for i, label in enumerate(word_list):\n",
        "    x, y = trained_embeddings[i]\n",
        "    # print (label, \" : \", x, \" \" , y)\n",
        "    plt.scatter(x, y)\n",
        "    plt.annotate(label, xy=(x, y), xytext=(5, 2),\n",
        "                 textcoords='offset points', ha='right', va='bottom')\n",
        "\n",
        "plt.show()"
      ],
      "execution_count": null,
      "outputs": [
        {
          "output_type": "display_data",
          "data": {
            "text/plain": [
              "<Figure size 640x480 with 1 Axes>"
            ],
            "image/png": "[encoded data removed]"
          },
          "metadata": {}
        }
      ]
    }
  ]
}